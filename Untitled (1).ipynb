{
 "cells": [
  {
   "cell_type": "code",
   "execution_count": 1,
   "metadata": {
    "scrolled": false
   },
   "outputs": [],
   "source": [
    "\n",
    "import xml.etree.ElementTree\n",
    "import json\n",
    "import os\n",
    "import urllib.request\n",
    "import csv\n",
    "import pandas as pd \n",
    "import math as m\n",
    "import matplotlib.pyplot as plt\n",
    "\n",
    "\n",
    "\n",
    "#url for global warming data + extensions for specific information access\n",
    "url     = \"https://global-warming.org/api\"\n",
    "temp    = \"/temperature-api\"\n",
    "co2     = \"/co2-api\"\n",
    "methane = \"methane-ap\"\n",
    "noxide  = \"/nitrous-oxide-api\"\n",
    "ice     = \"/arctic-api\"\n",
    "\n",
    "#the complete aim is to:\n",
    "# - to download temperature data and co2 concentration data in the json format\n",
    "# - combine those into one json structure, that spans the same time range\n",
    "# - save into file\n",
    "# - present information in appropriate graphs\n",
    "# - create table which shows max and min temperature and co2 levels\n",
    "# - include averages for recent years (10 years)\n",
    "\n",
    "#create a file with set headings - 2 diff types of data to store\n",
    "def create_file (file_loc, headings): \n",
    "    with open(file_loc, \"w\",newline='') as write_file: #as in get_and_write_data function \n",
    "        f = csv.writer(write_file)\n",
    "        f.writerow(headings)\n",
    "    write_file.close()\n"
   ]
  },
  {
   "cell_type": "code",
   "execution_count": null,
   "metadata": {
    "scrolled": false
   },
   "outputs": [],
   "source": []
  },
  {
   "cell_type": "code",
   "execution_count": 2,
   "metadata": {},
   "outputs": [
    {
     "name": "stdout",
     "output_type": "stream",
     "text": [
      "temperature\n",
      "co2\n"
     ]
    }
   ],
   "source": [
    "#download temperature data\n",
    "response = urllib.request.urlopen(url+temp)\n",
    "raw_json = response.read().decode()\n",
    "data = json.loads(raw_json)\n",
    "\n",
    "#extract temperature data\n",
    "temperature = json.dumps(data[\"result\"])\n",
    "\n",
    "#download co2 data\n",
    "response = urllib.request.urlopen(url+co2)\n",
    "raw_json = response.read().decode()\n",
    "data = json.loads(raw_json)\n",
    "#extract the relevant co2 data\n",
    "co2dat = json.dumps(data[\"co2\"])\n",
    "#store in one JSON structure\n",
    "data = json.loads('{\\\"temperature\\\" : ' + temperature + ', \\\"co2\\\" : ' + co2dat+ '}')\n",
    "\n",
    "\n",
    "#print(combined_string)\n",
    "\n",
    "for entry in data:\n",
    "    print(entry)\n"
   ]
  },
  {
   "cell_type": "code",
   "execution_count": 3,
   "metadata": {},
   "outputs": [],
   "source": [
    "#save data onto .json file\n",
    "with open('data.json','w') as jsonfile:\n",
    "    json.dump(data,jsonfile)"
   ]
  },
  {
   "cell_type": "code",
   "execution_count": 6,
   "metadata": {
    "scrolled": true
   },
   "outputs": [
    {
     "data": {
      "image/png": "[encoded data removed]",
      "text/plain": [
       "<Figure size 432x288 with 1 Axes>"
      ]
     },
     "metadata": {
      "needs_background": "light"
     },
     "output_type": "display_data"
    }
   ],
   "source": [
    "## open file and arrange overlapping temperature and co2 data onto one csv file. \n",
    "#from 2011 onwards, will result in \n",
    "t_co2_file = \"tempco2.csv\"\n",
    "t_data = []\n",
    "c_data = []\n",
    "\n",
    "i = 0 #counter\n",
    "\n",
    "#open file with data and store in program memory\n",
    "with open('data.json') as json_file:\n",
    "    data = json.load(json_file)\n",
    "    json_file.close()\n",
    "\n",
    "#collect relevant temperature data to compare with co2\n",
    "for entry in data[\"temperature\"]:\n",
    "    if float(entry[\"time\"]) > 2011:                             #take only values from 2011 onwards, as that is the extent of co2 data\n",
    "        t_data.append((float(entry[\"station\"]) + float(entry[\"land\"]))/2) #take average of station data and land data for a generalised view\n",
    "        i = i + 1\n",
    "i = 0\n",
    "day = 0\n",
    "sum = 0\n",
    "#for co2, data is collected for every day of the month -> take average for each month\n",
    "for entry in data[\"co2\"]:\n",
    "    sum = sum + float(entry[\"cycle\"])  \n",
    "    if day < int(entry[\"day\"]):          #go until end of month, then days reset \n",
    "        day = int(entry[\"day\"])\n",
    "    else:\n",
    "        c_data.append(sum/day)      #take average\n",
    "        i = i + 1                   #move up in the array\n",
    "        sum = 0\n",
    "        day = 0                     #reset day counter\n",
    "#i = 1\n",
    "#for d in c_data:\n",
    "#    print(i ,round(c_data[i],2), \",\",round(t_data[i],2))\n",
    "#    if i < 12:\n",
    "#        i = i +1\n",
    "#    else: i = 1\n",
    "#\n",
    "#print(\"lenght of c_data:\",len(c_data))\n",
    "#print(\"lenght of t_data:\",len(t_data))\n",
    "\n",
    "create_file(t_co2_file, [\"year\",\"month\",\"temperature change\",\"co2 ppm\"])\n",
    "year = \"2011\"\n",
    "month = [\"Jan\",\"Feb\",\"Mar\",\"Apr\",\"May\",\"Jun\", \"Jul\", \"Aug\",\"Sep\",\"Oct\",\"Nov\",\"Dec\"]\n",
    "\n",
    "i = 0;\n",
    "\n",
    "x_data = []\n",
    "y_data = []\n",
    "with open(t_co2_file, \"a\",newline='') as file:\n",
    "        df = csv.writer(file)\n",
    "        for counter in range(0,len(c_data)):\n",
    "            year = str(int(year)+1)\n",
    "            o = year\n",
    "            l = str(o) + \",\" + str(month[i]) + \",\" + str(t_data[counter])+ \",\" + str(c_data[counter])\n",
    "            p = l.split(\",\")\n",
    "            u = p[0]\n",
    "            t = p[3]\n",
    "            if i < 11: i = i + 1\n",
    "            else: i = 0\n",
    "                \n",
    "           \n",
    "            \n",
    "            \n",
    "            x_data.append(u)\n",
    "            y_data.append(t)\n",
    "            #datalist.append(a)\n",
    "            #datalist.append(b)\n",
    "            \n",
    "        \n",
    "        plt.plot(x_data[0:10],y_data[0:10])\n",
    "        plt.title('co2 data')\n",
    "        plt.xlabel('year')\n",
    "        plt.ylabel('co2')\n",
    "        plt.show\n",
    "        file.close()"
   ]
  },
  {
   "cell_type": "code",
   "execution_count": null,
   "metadata": {},
   "outputs": [],
   "source": [
    "with open('data.json') as json_file:\n",
    "    data = json.load(json_file)\n",
    "    for entry in data[\"temperature\"]:\n",
    "        print(entry)"
   ]
  },
  {
   "cell_type": "code",
   "execution_count": null,
   "metadata": {},
   "outputs": [],
   "source": [
    "#print(raw_json)\n",
    "\n",
    "\n",
    "response = urllib.request.urlopen(url+temp)\n",
    "raw_json = response.read().decode()\n",
    "print(raw_json)\n",
    "\n",
    "co2dat = json.loads(raw_json)\n",
    "i = 1;\n",
    "\n",
    "#for entry in co2dat[\"co2\"]:\n",
    "#    print(entry[\"year\"], i)\n",
    "#    i = i+1"
   ]
  },
  {
   "cell_type": "code",
   "execution_count": null,
   "metadata": {},
   "outputs": [],
   "source": []
  },
  {
   "cell_type": "code",
   "execution_count": null,
   "metadata": {},
   "outputs": [],
   "source": []
  }
 ],
 "metadata": {
  "kernelspec": {
   "display_name": "Python 3",
   "language": "python",
   "name": "python3"
  },
  "language_info": {
   "codemirror_mode": {
    "name": "ipython",
    "version": 3
   },
   "file_extension": ".py",
   "mimetype": "text/x-python",
   "name": "python",
   "nbconvert_exporter": "python",
   "pygments_lexer": "ipython3",
   "version": "3.7.10"
  }
 },
 "nbformat": 4,
 "nbformat_minor": 4
}
